{
 "cells": [
  {
   "attachments": {},
   "cell_type": "markdown",
   "metadata": {},
   "source": [
    "# HK-2022 cross section dataset"
   ]
  },
  {
   "attachments": {},
   "cell_type": "markdown",
   "metadata": {},
   "source": [
    "## Data import and drop unnecessary rows"
   ]
  },
  {
   "cell_type": "code",
   "execution_count": 92,
   "metadata": {},
   "outputs": [
    {
     "data": {
      "text/plain": [
       "<bound method NDFrame.head of              obid            plz  kaufpreis mieteinnahmenpromonat  \\\n",
       "0       130196929  Other missing   279000.0         Other missing   \n",
       "1       132220614           7639   980000.0         Other missing   \n",
       "2       131746727          67480   572000.0         Other missing   \n",
       "3       133856230  Other missing   275000.0         Other missing   \n",
       "4       131486960          57550   349000.0         Other missing   \n",
       "...           ...            ...        ...                   ...   \n",
       "259342  131245864           4626   160000.0         Other missing   \n",
       "259343  129729448           4626   211449.0         Other missing   \n",
       "259344  130328229           4626   256749.0         Other missing   \n",
       "259345  135754405           4617   375000.0         Other missing   \n",
       "259346  130677810           4617   312114.0         Other missing   \n",
       "\n",
       "                           heizkosten  baujahr letzte_modernisierung  \\\n",
       "0       Variable for other types only   2001.0         Other missing   \n",
       "1       Variable for other types only      NaN         Other missing   \n",
       "2       Variable for other types only      NaN         Other missing   \n",
       "3       Variable for other types only      NaN         Other missing   \n",
       "4       Variable for other types only   2008.0         Other missing   \n",
       "...                               ...      ...                   ...   \n",
       "259342  Variable for other types only   1982.0         Other missing   \n",
       "259343  Variable for other types only   2022.0         Other missing   \n",
       "259344  Variable for other types only   2022.0         Other missing   \n",
       "259345  Variable for other types only   2010.0         Other missing   \n",
       "259346  Variable for other types only   2022.0         Other missing   \n",
       "\n",
       "        wohnflaeche grundstuecksflaeche    nutzflaeche  ...  \\\n",
       "0            105.00                 539  Other missing  ...   \n",
       "1            180.00                 700  Other missing  ...   \n",
       "2            246.00                 860  Other missing  ...   \n",
       "3            187.00                1000  Other missing  ...   \n",
       "4            165.00                 920             40  ...   \n",
       "...             ...                 ...            ...  ...   \n",
       "259342       125.00                 642  Other missing  ...   \n",
       "259343       142.29                 800         144.29  ...   \n",
       "259344       163.84                 680         163.84  ...   \n",
       "259345       119.00                 435             10  ...   \n",
       "259346       141.87                 634         141.87  ...   \n",
       "\n",
       "                  anbieter    duplicateid   hits_gen  \\\n",
       "0       Real-estate agent       130133396  13.497717   \n",
       "1       Real-estate agent   Other missing   6.281623   \n",
       "2       Real-estate agent   Other missing   0.000000   \n",
       "3       Real-estate agent   Other missing   0.000000   \n",
       "4       Real-estate agent   Other missing   0.000000   \n",
       "...                    ...            ...        ...   \n",
       "259342  Real-estate agent   Other missing   0.000000   \n",
       "259343     House building   Other missing   0.203390   \n",
       "259344     House building   Other missing   0.325000   \n",
       "259345  Real-estate agent   Other missing  40.468086   \n",
       "259346     House building   Other missing   0.573333   \n",
       "\n",
       "       click_schnellkontakte_gen click_weitersagen_gen click_url_gen  \\\n",
       "0                       0.018265                   0.0      0.027397   \n",
       "1                       0.000000                   0.0      0.000000   \n",
       "2                       0.000000                   0.0      0.000000   \n",
       "3                       0.000000                   0.0      0.000000   \n",
       "4                       0.000000                   0.0      0.000000   \n",
       "...                          ...                   ...           ...   \n",
       "259342                  0.000000                   0.0      0.000000   \n",
       "259343                  0.000000                   0.0      0.000000   \n",
       "259344                  0.000000                   0.0      0.000000   \n",
       "259345                  0.127660                   0.0      0.000000   \n",
       "259346                  0.000000                   0.0      0.000000   \n",
       "\n",
       "        liste_show_gen  liste_match_gen     adat  price_sqm  \n",
       "0           389.520540       1723.33340  2021m10  2657.1428  \n",
       "1           117.183770       2198.84500   2022m9  5444.4443  \n",
       "2             0.000000          0.00000   2022m2  2325.2034  \n",
       "3             0.000000          0.00000   2022m5  1470.5883  \n",
       "4             0.000000          0.00000   2022m1  2115.1516  \n",
       "...                ...              ...      ...        ...  \n",
       "259342        0.000000          0.00000   2022m1  1280.0000  \n",
       "259343      148.716090       1879.93640   2021m9  1486.0426  \n",
       "259344      204.318760       1626.51250  2021m10  1567.0715  \n",
       "259345      529.106380       8652.76560  2022m10  3151.2605  \n",
       "259346       84.433334        923.40002  2021m11  2200.0000  \n",
       "\n",
       "[259347 rows x 69 columns]>"
      ]
     },
     "execution_count": 92,
     "metadata": {},
     "output_type": "execute_result"
    }
   ],
   "source": [
    "import pandas as pd\n",
    "import matplotlib.pyplot as plt\n",
    "\n",
    "hk_2022 = pd.read_csv('./Data/HK_2022.csv', dtype={'plz': object, 'kid2019': object})\n",
    "\n",
    "df = pd.DataFrame(hk_2022)\n",
    "\n",
    "df['adat_year'] = df['adat'].astype(str).str[:4]\n",
    "\n",
    "number_of_transactions_per_year = df.groupby('adat_year')['price_sqm'].count()\n",
    "print(number_of_transactions_per_year)\n",
    "\n",
    "object_features = [ 'ausstattung', 'badezimmer', 'denkmalobjekt', 'einbaukueche', 'ferienhaus', 'gaestewc', 'garten', 'haustier_erlaubt', 'kategorie_Haus', 'keller', 'parkplatz', 'zimmeranzahl']\n",
    "general_object_information = ['bauphase', 'einliegerwohnung', 'foerderung', 'immobilientyp', 'kaufvermietet', 'mieteinnahmenpromonat', 'nebenraeume', 'rollstuhlgerecht', 'schlafzimmer']\n",
    "area_information = ['grundstuecksflaeche', 'nutzflaeche', 'wohnflaeche']\n",
    "energy_and_structure_information = ['baujahr', 'energieausweistyp', 'energieeffizienzklasse', 'ev_kennwert', 'ev_wwenthalten', 'heizkosten', 'heizungsart', 'letzte_modernisierung', 'objektzustand']\n",
    "price_information = ['parkplatzpreis']\n",
    "regional_information = ['gid2019', 'kid2019', 'ergg_1km', 'blid']\n",
    "meta_information_advertisement = ['click_customer', 'click_schnellkontakte', 'click_url', 'click_weitersagen', 'hits', 'laufzeittage', 'hits_gen']\n",
    "technical_variables = ['bef1', 'bef2', 'bef3', 'bef4', 'bef5', 'bef6', 'bef7', 'bef8', 'bef9', 'bef10', 'anbieter', 'duplicateid', 'click_schnellkontakte_gen', 'click_weitersagen_gen', 'click_url_gen']\n",
    "other_variables = ['liste_show', 'liste_match', 'liste_show_gen', 'liste_match_gen']\n",
    "columns_to_drop = object_features + general_object_information + area_information + energy_and_structure_information + price_information + regional_information + meta_information_advertisement + technical_variables + other_variables\n",
    "df.drop(columns=columns_to_drop, axis=1, inplace=True)\n",
    "\n",
    "df = df[df['adat_year'] == '2022']\n",
    "\n",
    "df.head"
   ]
  },
  {
   "attachments": {},
   "cell_type": "markdown",
   "metadata": {},
   "source": [
    "## Merge locational information"
   ]
  },
  {
   "cell_type": "code",
   "execution_count": 91,
   "metadata": {},
   "outputs": [
    {
     "data": {
      "text/plain": [
       "' plz_einwohner_df = pd.read_csv(\\'../Data/plz_einwohner.csv\\', sep=\\',\\', dtype={\\'plz\\': str, \\'einwohner\\': int})\\neinwohner_bundesland_df = pd.merge(df_plz_city, plz_einwohner_df, how=\"left\", on=\"plz\")\\neinwohner_bundesland_df = einwohner_bundesland_df.groupby(\\'bundesland\\')[\\'einwohner\\'].sum()\\n\\ndf = pd.merge(df, einwohner_bundesland_df, how=\"inner\", on=\"bundesland\")\\ndf '"
      ]
     },
     "execution_count": 91,
     "metadata": {},
     "output_type": "execute_result"
    }
   ],
   "source": [
    "plz_city = pd.read_csv('./Data/plz_einwohner.csv', dtype={'plz': str})\n",
    "df_plz_city = pd.DataFrame(plz_city)\n",
    "#plz_city.drop('osm_id', axis=1, inplace=True)\n",
    "df_plz_city.head()\n",
    "#plz_city = pd.read_csv('./Data/zuordnung_plz_ort.csv', dtype={'plz': str})\n",
    "#plz_city.drop('osm_id', axis=1, inplace=True)\n",
    "\n",
    "#df = pd.merge(df, df_plz_city, how=\"left\", on=\"plz\")\n",
    "#df.head()\n",
    "\n",
    "#df_new = df.groupby('bundesland')['kaufpreis'].mean().reset_index()\n",
    "#df_new\n",
    "#count_by_ort = df_big_cities.groupby('ort')['obid'].count().sort_values(ascending=False).reset_index(name='transactions')\n",
    "\n",
    "\n",
    "\"\"\" plz_einwohner_df = pd.read_csv('../Data/plz_einwohner.csv', sep=',', dtype={'plz': str, 'einwohner': int})\n",
    "einwohner_bundesland_df = pd.merge(df_plz_city, plz_einwohner_df, how=\"left\", on=\"plz\")\n",
    "einwohner_bundesland_df = einwohner_bundesland_df.groupby('bundesland')['einwohner'].sum()\n",
    "\n",
    "df = pd.merge(df, einwohner_bundesland_df, how=\"inner\", on=\"bundesland\")\n",
    "df \"\"\""
   ]
  },
  {
   "attachments": {},
   "cell_type": "markdown",
   "metadata": {},
   "source": [
    "## Merge unemployment and income"
   ]
  },
  {
   "cell_type": "code",
   "execution_count": 61,
   "metadata": {},
   "outputs": [
    {
     "name": "stdout",
     "output_type": "stream",
     "text": [
      "(15, 5)\n"
     ]
    },
    {
     "data": {
      "text/html": [
       "<div>\n",
       "<style scoped>\n",
       "    .dataframe tbody tr th:only-of-type {\n",
       "        vertical-align: middle;\n",
       "    }\n",
       "\n",
       "    .dataframe tbody tr th {\n",
       "        vertical-align: top;\n",
       "    }\n",
       "\n",
       "    .dataframe thead th {\n",
       "        text-align: right;\n",
       "    }\n",
       "</style>\n",
       "<table border=\"1\" class=\"dataframe\">\n",
       "  <thead>\n",
       "    <tr style=\"text-align: right;\">\n",
       "      <th></th>\n",
       "      <th>bundesland</th>\n",
       "      <th>kaufpreis</th>\n",
       "      <th>einwohner</th>\n",
       "      <th>Arbeitslosenquote</th>\n",
       "      <th>Einkommen</th>\n",
       "    </tr>\n",
       "  </thead>\n",
       "  <tbody>\n",
       "    <tr>\n",
       "      <th>0</th>\n",
       "      <td>Baden-Württemberg</td>\n",
       "      <td>613140.892695</td>\n",
       "      <td>11504792</td>\n",
       "      <td>3.5</td>\n",
       "      <td>47962</td>\n",
       "    </tr>\n",
       "    <tr>\n",
       "      <th>1</th>\n",
       "      <td>Bayern</td>\n",
       "      <td>673879.378869</td>\n",
       "      <td>14181130</td>\n",
       "      <td>3.1</td>\n",
       "      <td>46757</td>\n",
       "    </tr>\n",
       "    <tr>\n",
       "      <th>2</th>\n",
       "      <td>Berlin</td>\n",
       "      <td>846280.363123</td>\n",
       "      <td>3291932</td>\n",
       "      <td>8.8</td>\n",
       "      <td>43179</td>\n",
       "    </tr>\n",
       "    <tr>\n",
       "      <th>3</th>\n",
       "      <td>Brandenburg</td>\n",
       "      <td>513224.773693</td>\n",
       "      <td>5859910</td>\n",
       "      <td>5.6</td>\n",
       "      <td>36607</td>\n",
       "    </tr>\n",
       "    <tr>\n",
       "      <th>4</th>\n",
       "      <td>Bremen</td>\n",
       "      <td>459263.750446</td>\n",
       "      <td>666066</td>\n",
       "      <td>10.2</td>\n",
       "      <td>43434</td>\n",
       "    </tr>\n",
       "  </tbody>\n",
       "</table>\n",
       "</div>"
      ],
      "text/plain": [
       "          bundesland      kaufpreis  einwohner  Arbeitslosenquote  Einkommen\n",
       "0  Baden-Württemberg  613140.892695   11504792                3.5      47962\n",
       "1             Bayern  673879.378869   14181130                3.1      46757\n",
       "2             Berlin  846280.363123    3291932                8.8      43179\n",
       "3        Brandenburg  513224.773693    5859910                5.6      36607\n",
       "4             Bremen  459263.750446     666066               10.2      43434"
      ]
     },
     "execution_count": 61,
     "metadata": {},
     "output_type": "execute_result"
    }
   ],
   "source": [
    "unemployment_rate = pd.read_csv('../Data/Macroeconomic Data States/Unemployment-rate.csv')\n",
    "df_unemployment_rate = pd.DataFrame(unemployment_rate)\n",
    "df_unemployment_rate.rename(columns={'Bundesland': 'bundesland'}, inplace=True)\n",
    "\n",
    "df = pd.merge(df, df_unemployment_rate, how=\"inner\", on=\"bundesland\")\n",
    "\n",
    "income = pd.read_csv('../Data/Macroeconomic Data States/Income.csv')\n",
    "df_income = pd.DataFrame(income)\n",
    "df_income.rename(columns={'Bundesland': 'bundesland'}, inplace=True)\n",
    "\n",
    "df = pd.merge(df, df_income, how=\"inner\", on=\"bundesland\")\n",
    "\n",
    "print(df.shape)\n",
    "df"
   ]
  },
  {
   "cell_type": "code",
   "execution_count": 55,
   "metadata": {},
   "outputs": [],
   "source": [
    "from IPython.display import HTML, display\n",
    "import numpy as np\n",
    "\n",
    "import statsmodels.api as sm\n",
    "from statsmodels.formula.api import ols\n",
    "from statsmodels.sandbox.regression.predstd import wls_prediction_std\n",
    "\n",
    "import matplotlib.pyplot as plt\n",
    "import seaborn as sns\n",
    "%matplotlib inline\n",
    "sns.set_style(\"darkgrid\")"
   ]
  },
  {
   "cell_type": "code",
   "execution_count": 58,
   "metadata": {},
   "outputs": [
    {
     "name": "stderr",
     "output_type": "stream",
     "text": [
      "/opt/anaconda3/lib/python3.9/site-packages/scipy/stats/stats.py:1541: UserWarning: kurtosistest only valid for n>=20 ... continuing anyway, n=15\n",
      "  warnings.warn(\"kurtosistest only valid for n>=20 ... continuing \"\n"
     ]
    },
    {
     "data": {
      "text/html": [
       "<table class=\"simpletable\">\n",
       "<caption>OLS Regression Results</caption>\n",
       "<tr>\n",
       "  <th>Dep. Variable:</th>        <td>kaufpreis</td>    <th>  R-squared:         </th> <td>   0.492</td>\n",
       "</tr>\n",
       "<tr>\n",
       "  <th>Model:</th>                   <td>OLS</td>       <th>  Adj. R-squared:    </th> <td>   0.353</td>\n",
       "</tr>\n",
       "<tr>\n",
       "  <th>Method:</th>             <td>Least Squares</td>  <th>  F-statistic:       </th> <td>   3.544</td>\n",
       "</tr>\n",
       "<tr>\n",
       "  <th>Date:</th>             <td>Thu, 20 Apr 2023</td> <th>  Prob (F-statistic):</th>  <td>0.0516</td> \n",
       "</tr>\n",
       "<tr>\n",
       "  <th>Time:</th>                 <td>14:33:27</td>     <th>  Log-Likelihood:    </th> <td> -197.65</td>\n",
       "</tr>\n",
       "<tr>\n",
       "  <th>No. Observations:</th>      <td>    15</td>      <th>  AIC:               </th> <td>   403.3</td>\n",
       "</tr>\n",
       "<tr>\n",
       "  <th>Df Residuals:</th>          <td>    11</td>      <th>  BIC:               </th> <td>   406.1</td>\n",
       "</tr>\n",
       "<tr>\n",
       "  <th>Df Model:</th>              <td>     3</td>      <th>                     </th>     <td> </td>   \n",
       "</tr>\n",
       "<tr>\n",
       "  <th>Covariance Type:</th>      <td>nonrobust</td>    <th>                     </th>     <td> </td>   \n",
       "</tr>\n",
       "</table>\n",
       "<table class=\"simpletable\">\n",
       "<tr>\n",
       "          <td></td>             <th>coef</th>     <th>std err</th>      <th>t</th>      <th>P>|t|</th>  <th>[0.025</th>    <th>0.975]</th>  \n",
       "</tr>\n",
       "<tr>\n",
       "  <th>Intercept</th>         <td>-7.744e+05</td> <td> 4.76e+05</td> <td>   -1.626</td> <td> 0.132</td> <td>-1.82e+06</td> <td> 2.74e+05</td>\n",
       "</tr>\n",
       "<tr>\n",
       "  <th>einwohner</th>         <td>   -0.0053</td> <td>    0.009</td> <td>   -0.582</td> <td> 0.573</td> <td>   -0.025</td> <td>    0.015</td>\n",
       "</tr>\n",
       "<tr>\n",
       "  <th>Arbeitslosenquote</th> <td> 9397.4429</td> <td> 2.71e+04</td> <td>    0.347</td> <td> 0.735</td> <td>-5.02e+04</td> <td>  6.9e+04</td>\n",
       "</tr>\n",
       "<tr>\n",
       "  <th>Einkommen</th>         <td>   30.3718</td> <td>    9.430</td> <td>    3.221</td> <td> 0.008</td> <td>    9.616</td> <td>   51.128</td>\n",
       "</tr>\n",
       "</table>\n",
       "<table class=\"simpletable\">\n",
       "<tr>\n",
       "  <th>Omnibus:</th>       <td> 0.071</td> <th>  Durbin-Watson:     </th> <td>   1.991</td>\n",
       "</tr>\n",
       "<tr>\n",
       "  <th>Prob(Omnibus):</th> <td> 0.965</td> <th>  Jarque-Bera (JB):  </th> <td>   0.247</td>\n",
       "</tr>\n",
       "<tr>\n",
       "  <th>Skew:</th>          <td> 0.126</td> <th>  Prob(JB):          </th> <td>   0.884</td>\n",
       "</tr>\n",
       "<tr>\n",
       "  <th>Kurtosis:</th>      <td> 2.424</td> <th>  Cond. No.          </th> <td>1.17e+08</td>\n",
       "</tr>\n",
       "</table><br/><br/>Notes:<br/>[1] Standard Errors assume that the covariance matrix of the errors is correctly specified.<br/>[2] The condition number is large, 1.17e+08. This might indicate that there are<br/>strong multicollinearity or other numerical problems."
      ],
      "text/plain": [
       "<IPython.core.display.HTML object>"
      ]
     },
     "execution_count": 58,
     "metadata": {},
     "output_type": "execute_result"
    }
   ],
   "source": [
    "housing_model = ols(\"\"\"kaufpreis ~  \n",
    "                                            einwohner\n",
    "                                            + Arbeitslosenquote\n",
    "                                            + Einkommen\"\"\", data=df).fit()\n",
    "\n",
    "housing_model_summary = housing_model.summary()\n",
    "HTML(housing_model_summary.as_html())"
   ]
  }
 ],
 "metadata": {
  "kernelspec": {
   "display_name": "Python 3 (ipykernel)",
   "language": "python",
   "name": "python3"
  },
  "language_info": {
   "codemirror_mode": {
    "name": "ipython",
    "version": 3
   },
   "file_extension": ".py",
   "mimetype": "text/x-python",
   "name": "python",
   "nbconvert_exporter": "python",
   "pygments_lexer": "ipython3",
   "version": "3.9.12"
  },
  "orig_nbformat": 4
 },
 "nbformat": 4,
 "nbformat_minor": 2
}
