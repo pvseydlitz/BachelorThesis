{
 "cells": [
  {
   "cell_type": "code",
   "execution_count": 2,
   "metadata": {},
   "outputs": [
    {
     "name": "stderr",
     "output_type": "stream",
     "text": [
      "/var/folders/5h/0pnj053913z2cl2pgkgr888h0000gp/T/ipykernel_56708/137787037.py:4: DtypeWarning: Columns (48) have mixed types. Specify dtype option on import or set low_memory=False.\n",
      "  hk_2022 = pd.read_csv('./Data/HK_2022.csv', dtype={'plz': object})\n"
     ]
    },
    {
     "name": "stdout",
     "output_type": "stream",
     "text": [
      "adat_year\n",
      "2020      2830\n",
      "2021     22073\n",
      "2022    234444\n",
      "Name: price_sqm, dtype: int64\n"
     ]
    }
   ],
   "source": [
    "import pandas as pd\n",
    "import matplotlib.pyplot as plt\n",
    "\n",
    "hk_2022 = pd.read_csv('./Data/HK_2022.csv', dtype={'plz': object})\n",
    "\n",
    "df = pd.DataFrame(hk_2022)\n",
    "\n",
    "df['adat_year'] = df['adat'].astype(str).str[:4]\n",
    "\n",
    "number_of_transactions_per_year = df.groupby('adat_year')['price_sqm'].count()\n",
    "\n",
    "print(number_of_transactions_per_year)"
   ]
  }
 ],
 "metadata": {
  "kernelspec": {
   "display_name": "Python 3 (ipykernel)",
   "language": "python",
   "name": "python3"
  },
  "language_info": {
   "codemirror_mode": {
    "name": "ipython",
    "version": 3
   },
   "file_extension": ".py",
   "mimetype": "text/x-python",
   "name": "python",
   "nbconvert_exporter": "python",
   "pygments_lexer": "ipython3",
   "version": "3.9.12"
  },
  "orig_nbformat": 4
 },
 "nbformat": 4,
 "nbformat_minor": 2
}
